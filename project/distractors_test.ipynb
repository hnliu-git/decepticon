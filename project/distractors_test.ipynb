{
 "cells": [
  {
   "cell_type": "code",
   "execution_count": 1,
   "id": "smoking-asbestos",
   "metadata": {},
   "outputs": [
    {
     "name": "stderr",
     "output_type": "stream",
     "text": [
      "[nltk_data] Downloading package punkt to\n",
      "[nltk_data]     C:\\Users\\gersa\\AppData\\Roaming\\nltk_data...\n",
      "[nltk_data]   Package punkt is already up-to-date!\n"
     ]
    }
   ],
   "source": [
    "from collections import namedtuple\n",
    "# neptune\n",
    "import os\n",
    "import numpy as np\n",
    "from transformers import BertForSequenceClassification\n",
    "from time import sleep\n",
    "import torch\n",
    "import pytorch_lightning as pl\n",
    "from pytorch_lightning import Trainer\n",
    "from torch.nn import functional as F\n",
    "from models.t5 import *\n",
    "from data.data import *\n",
    "from data.prerpocessing import *\n",
    "device=\"cuda\""
   ]
  },
  {
   "cell_type": "code",
   "execution_count": 2,
   "id": "electronic-style",
   "metadata": {},
   "outputs": [],
   "source": [
    "class Args:\n",
    "    def __init__(self):\n",
    "        self.data_path =  \"D:\\Github/decepticon/Processed_New\"\n",
    "        self.batch_size =  16\n",
    "        self.num_workers =  0\n",
    "        self.pretrained_model = \"t5-small\"\n",
    "        self.pretrained_eval_model = \"iarfmoose/bert-base-cased-qa-evaluator\"\n",
    "        self.tokenizer_len = 32103 ## manual\n",
    "        self.padding_id = 0\n",
    "        self.special_tokens = [\"<answer>\", \"<question>\", \"<context>\"]\n",
    "    def to_dict(self):\n",
    "        out = dict()\n",
    "        out[\"data_path\"] = self.data_path\n",
    "        out[\"batch_size\"] = self.batch_size\n",
    "        out[\"num_workers\"] = self.num_workers\n",
    "        out[\"pretrained_model\"] = self.pretrained_model\n",
    "        out[\"tokenizer_len\"] = self.tokenizer_len\n",
    "        out[\"padding_id\"] = self.padding_id\n",
    "        out[\"special_tokens\"] = self.special_tokens\n",
    "        return out\n",
    "\n",
    "hparams=Args()"
   ]
  },
  {
   "cell_type": "code",
   "execution_count": 3,
   "id": "educated-marina",
   "metadata": {},
   "outputs": [],
   "source": [
    "model = T5FinetuneForRACE.load_from_checkpoint(\"D:/Github/decepticon/project/checkpoints/1_01.ckpt\").to(device)"
   ]
  },
  {
   "cell_type": "code",
   "execution_count": 20,
   "id": "hawaiian-scratch",
   "metadata": {},
   "outputs": [
    {
     "name": "stdout",
     "output_type": "stream",
     "text": [
      "DataModule: Custom collate function is detected\n",
      "SETUP: Training Dataset\n",
      "SETUP: Validation Dataset\n",
      "SETUP: Test Dataset\n"
     ]
    }
   ],
   "source": [
    "#data_module = RaceDataModule(hparams, custom_collate_fn = RaceDataModule.t5_collate_fn)\n",
    "data_module = RaceDataModule(hparams, custom_collate_fn = RaceDataModule.distractor_collate_fn)\n",
    "data_module.prepare_data()\n",
    "data_module.setup()"
   ]
  },
  {
   "cell_type": "code",
   "execution_count": 21,
   "id": "stupid-solid",
   "metadata": {},
   "outputs": [],
   "source": [
    "T5FinetuneForRACE.datamodule = data_module"
   ]
  },
  {
   "cell_type": "code",
   "execution_count": 32,
   "id": "mounted-librarian",
   "metadata": {},
   "outputs": [],
   "source": [
    "x, y = next(iter(data_module.val_dataloader()))"
   ]
  },
  {
   "cell_type": "code",
   "execution_count": 59,
   "id": "powerful-backing",
   "metadata": {},
   "outputs": [],
   "source": [
    "output = model.model.generate(input_ids = x[\"input_ids\"].to(device), \n",
    "                                     do_sample = True,\n",
    "                                     top_k = 50,\n",
    "                                     top_p = 0.97, ## the more - the less diverse\n",
    "                                     early_stopping = True)"
   ]
  },
  {
   "cell_type": "code",
   "execution_count": 60,
   "id": "wound-bench",
   "metadata": {},
   "outputs": [
    {
     "data": {
      "text/plain": [
       "'<answer> sought to eliminate monopolies in favor of competition in the market-place<question> The Sherman Antitrust Act _.<context> One thinks of princes and presidents as some of the most powerful people in the world; however, governments, elected or otherwise, sometimes have had to struggle with the financial powerhouses called tycoons. The word tycoon is relatively new to the English language. It is Chinese in origin but was given as a title to some Japanese generals. The term was brought to the United States, in the late nineteenth century, where it eventually was used to refer to magnates who acquired immense fortunes from sugar and cattle, coal and oil, rubber and steel, and railroads. Some people called these tycoons \"capitals of industry\" and praised them for their contributions to U.S. wealth and international reputation. Others criticized them as cruel \"robber barons\", who would stop at nothing in pursuit of personal wealth. The early tycoons built successful businesses, often taking over smaller companies to eliminate competition. A single company that came to control an entire market was called a monopoly. Monopolies made a few families very wealthy, but they also placed a heavy financial burden on consumers and the economy at large. As the country expanded and railroads linked the East Coast to the West Coast, local monopolies turned into national corporations called trusts. A trust is a group of companies that join together under the control of a board of trustees. Railroad trusts are an excellent example. Railroads were privately owned and operated and often monopolized various routes, setting rates as high as they desired. The financial burden this placed on passengers and businesses increased when railroads formed trusts. Farmers, for example, had no choice but to pay, as railroads were the only means they could use to get their grain to buyers. Exorbitant goods rates put some farmers out of business. There were even accusations that the trusts controlled government itself by buying votes and manipulating elected officials. In 1890 Congress passed the Sherman Antitrust. Act, legislation aimed at breaking the power of such trusts. The Sherman Antitrust Act focused on two main issues. First of all, it made illegal any effort to interfere with the normal conduct of interstate trade. It also made it illegal to monopolize any part of business that operates</s>'"
      ]
     },
     "execution_count": 60,
     "metadata": {},
     "output_type": "execute_result"
    }
   ],
   "source": [
    "data_module.tokenizer.decode(x[\"input_ids\"][0], skip_special_tokens= False, clean_up_tokenization_spaces = True)"
   ]
  },
  {
   "cell_type": "code",
   "execution_count": 67,
   "id": "toxic-stock",
   "metadata": {},
   "outputs": [
    {
     "data": {
      "text/plain": [
       "'need to be used on major companies to reduce monopolies'"
      ]
     },
     "execution_count": 67,
     "metadata": {},
     "output_type": "execute_result"
    }
   ],
   "source": [
    "data_module.tokenizer.decode(output[1], skip_special_tokens= True, clean_up_tokenization_spaces = True)"
   ]
  },
  {
   "cell_type": "markdown",
   "id": "excessive-prisoner",
   "metadata": {},
   "source": [
    "## "
   ]
  }
 ],
 "metadata": {
  "kernelspec": {
   "display_name": "Python 3",
   "language": "python",
   "name": "python3"
  },
  "language_info": {
   "codemirror_mode": {
    "name": "ipython",
    "version": 3
   },
   "file_extension": ".py",
   "mimetype": "text/x-python",
   "name": "python",
   "nbconvert_exporter": "python",
   "pygments_lexer": "ipython3",
   "version": "3.8.5"
  }
 },
 "nbformat": 4,
 "nbformat_minor": 5
}

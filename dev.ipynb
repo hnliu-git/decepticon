{
 "cells": [
  {
   "cell_type": "code",
   "execution_count": 34,
   "metadata": {},
   "outputs": [
    {
     "name": "stdout",
     "output_type": "stream",
     "text": [
      "The autoreload extension is already loaded. To reload it, use:\n",
      "  %reload_ext autoreload\n"
     ]
    }
   ],
   "source": [
    "%load_ext autoreload\n",
    "%autoreload 2\n",
    "\n",
    "from project.data.data import *"
   ]
  },
  {
   "cell_type": "markdown",
   "metadata": {},
   "source": [
    "## Preprocess raw data:"
   ]
  },
  {
   "cell_type": "code",
   "execution_count": 2,
   "metadata": {},
   "outputs": [
    {
     "name": "stderr",
     "output_type": "stream",
     "text": [
      "27933it [01:50, 252.43it/s]"
     ]
    },
    {
     "name": "stdout",
     "output_type": "stream",
     "text": [
      "Preprocess data successfully!\n"
     ]
    },
    {
     "name": "stderr",
     "output_type": "stream",
     "text": [
      "\n"
     ]
    }
   ],
   "source": [
    "processor = RaceDataProcessor()\n",
    "processor.process_data(\"RACE\", \"LON\")"
   ]
  },
  {
   "cell_type": "markdown",
   "metadata": {},
   "source": [
    "## Prepare datasets:"
   ]
  },
  {
   "cell_type": "markdown",
   "metadata": {},
   "source": [
    "##### All of the following steps should be done from command line. They are here to a quick & dirty heuristic to work with jupyter."
   ]
  },
  {
   "cell_type": "code",
   "execution_count": 2,
   "metadata": {},
   "outputs": [],
   "source": [
    "from collections import namedtuple\n",
    "\n",
    "Hparams = namedtuple(\"Hparams\", [\"data_path\", \"batch_size\", \"num_workers\", \"pretrained_model\"])\n",
    "hparams = Hparams(\n",
    "    data_path = \"LON\",\n",
    "    batch_size = 8,\n",
    "    num_workers = 6,\n",
    "    pretrained_model = \"distilbert-base-cased\"\n",
    ")"
   ]
  },
  {
   "cell_type": "code",
   "execution_count": 3,
   "metadata": {},
   "outputs": [
    {
     "data": {
      "application/vnd.jupyter.widget-view+json": {
       "model_id": "bc95f1049d6b4265be0c586712087804",
       "version_major": 2,
       "version_minor": 0
      },
      "text/plain": [
       "HBox(children=(HTML(value='Downloading'), FloatProgress(value=0.0, max=411.0), HTML(value='')))"
      ]
     },
     "metadata": {},
     "output_type": "display_data"
    },
    {
     "name": "stdout",
     "output_type": "stream",
     "text": [
      "\n"
     ]
    },
    {
     "data": {
      "application/vnd.jupyter.widget-view+json": {
       "model_id": "2e0459cab4c04e209b7c5a9dad712a3b",
       "version_major": 2,
       "version_minor": 0
      },
      "text/plain": [
       "HBox(children=(HTML(value='Downloading'), FloatProgress(value=0.0, max=213450.0), HTML(value='')))"
      ]
     },
     "metadata": {},
     "output_type": "display_data"
    },
    {
     "name": "stdout",
     "output_type": "stream",
     "text": [
      "\n"
     ]
    },
    {
     "data": {
      "application/vnd.jupyter.widget-view+json": {
       "model_id": "fa47039313ee4164a05f5337aed11b42",
       "version_major": 2,
       "version_minor": 0
      },
      "text/plain": [
       "HBox(children=(HTML(value='Downloading'), FloatProgress(value=0.0, max=435797.0), HTML(value='')))"
      ]
     },
     "metadata": {},
     "output_type": "display_data"
    },
    {
     "name": "stdout",
     "output_type": "stream",
     "text": [
      "\n"
     ]
    },
    {
     "data": {
      "application/vnd.jupyter.widget-view+json": {
       "model_id": "494b2637fd3941c38af081b48189a708",
       "version_major": 2,
       "version_minor": 0
      },
      "text/plain": [
       "HBox(children=(HTML(value='Downloading'), FloatProgress(value=0.0, max=29.0), HTML(value='')))"
      ]
     },
     "metadata": {},
     "output_type": "display_data"
    },
    {
     "name": "stdout",
     "output_type": "stream",
     "text": [
      "\n"
     ]
    }
   ],
   "source": [
    "# Create and setup \n",
    "lit_data_module = RaceDataModule(hparams)\n",
    "lit_data_module.prepare_data()\n",
    "lit_data_module.setup()"
   ]
  },
  {
   "cell_type": "code",
   "execution_count": 4,
   "metadata": {},
   "outputs": [],
   "source": [
    "# Get data loaders:\n",
    "trainloader = lit_data_module.train_dataloader()\n",
    "valloader = lit_data_module.val_dataloader()\n",
    "testloader = lit_data_module.test_dataloader()"
   ]
  },
  {
   "cell_type": "markdown",
   "metadata": {},
   "source": [
    "## Create model:"
   ]
  },
  {
   "cell_type": "code",
   "execution_count": 8,
   "metadata": {},
   "outputs": [],
   "source": [
    "import torch\n",
    "from transformers import AutoModel\n",
    "if torch.cuda.is_available():\n",
    "    device = torch.device(\"cuda\")\n",
    "else:\n",
    "    device = torch.device(\"cpu\")"
   ]
  },
  {
   "cell_type": "code",
   "execution_count": 18,
   "metadata": {},
   "outputs": [],
   "source": [
    "device = torch.device(\"cpu\")"
   ]
  },
  {
   "cell_type": "code",
   "execution_count": 5,
   "metadata": {},
   "outputs": [],
   "source": [
    "cac = iter(trainloader)"
   ]
  },
  {
   "cell_type": "code",
   "execution_count": 6,
   "metadata": {},
   "outputs": [],
   "source": [
    "batch = next(cac)"
   ]
  },
  {
   "cell_type": "code",
   "execution_count": 19,
   "metadata": {},
   "outputs": [],
   "source": [
    "for k, v in batch[\"articles\"].items():\n",
    "    batch[\"articles\"][k] = v.to(device)\n",
    "for k, v in batch[\"questions\"].items():\n",
    "    batch[\"questions\"][k] = v.to(device)"
   ]
  },
  {
   "cell_type": "code",
   "execution_count": 35,
   "metadata": {},
   "outputs": [],
   "source": [
    "from project.models.models import *"
   ]
  },
  {
   "cell_type": "code",
   "execution_count": 36,
   "metadata": {},
   "outputs": [],
   "source": [
    "Hparams = namedtuple(\"Hparams\", [\"d_model\", \"nhead\", \"num_layers\", \"learning_rate\", \"pretrained_model\"])\n",
    "hparams = Hparams(\n",
    "    d_model = 768,\n",
    "    nhead = 8,\n",
    "    num_layers = 1,\n",
    "    learning_rate = 1e-3,\n",
    "    pretrained_model = \"distilbert-base-cased\"\n",
    ")\n",
    "\n",
    "race_model = RaceModule(hparams).to(device)"
   ]
  },
  {
   "cell_type": "code",
   "execution_count": 37,
   "metadata": {},
   "outputs": [],
   "source": [
    "output, encode, decode, tgt = race_model(batch[\"questions\"], batch[\"questions\"])"
   ]
  },
  {
   "cell_type": "code",
   "execution_count": 38,
   "metadata": {},
   "outputs": [
    {
     "data": {
      "text/plain": [
       "tensor([[[6.4301e-05, 1.2961e-05, 1.9590e-05,  ..., 2.8862e-05,\n",
       "          3.4240e-05, 6.0571e-05],\n",
       "         [6.2088e-05, 1.2162e-05, 2.0187e-05,  ..., 4.2339e-05,\n",
       "          3.6512e-05, 5.0738e-05],\n",
       "         [5.7301e-05, 1.2832e-05, 1.9295e-05,  ..., 3.8062e-05,\n",
       "          3.0018e-05, 4.0314e-05],\n",
       "         ...,\n",
       "         [7.8482e-05, 1.3128e-05, 2.1414e-05,  ..., 4.0758e-05,\n",
       "          3.4472e-05, 4.6963e-05],\n",
       "         [5.2535e-05, 1.1564e-05, 1.8495e-05,  ..., 4.1640e-05,\n",
       "          3.2433e-05, 3.8565e-05],\n",
       "         [6.1419e-05, 1.4153e-05, 1.8233e-05,  ..., 3.7667e-05,\n",
       "          3.3458e-05, 4.7542e-05]],\n",
       "\n",
       "        [[6.1181e-05, 9.5091e-06, 2.8553e-05,  ..., 3.4644e-05,\n",
       "          1.7745e-05, 2.7025e-05],\n",
       "         [8.7221e-05, 1.8367e-05, 1.5286e-05,  ..., 3.5893e-05,\n",
       "          3.0031e-05, 3.0061e-05],\n",
       "         [7.8879e-05, 1.8169e-05, 3.9975e-05,  ..., 1.8118e-05,\n",
       "          5.8365e-05, 4.4215e-05],\n",
       "         ...,\n",
       "         [7.2393e-05, 1.5365e-05, 1.9110e-05,  ..., 3.5657e-05,\n",
       "          3.3046e-05, 2.7829e-05],\n",
       "         [4.0054e-05, 8.6016e-06, 1.8022e-05,  ..., 1.8251e-05,\n",
       "          1.6946e-05, 2.2688e-05],\n",
       "         [3.2138e-05, 1.0161e-05, 1.4691e-05,  ..., 1.8294e-05,\n",
       "          1.7149e-05, 2.3048e-05]],\n",
       "\n",
       "        [[2.0483e-05, 3.2853e-05, 2.6887e-05,  ..., 4.1240e-05,\n",
       "          1.7628e-05, 2.6053e-05],\n",
       "         [1.3203e-05, 3.3838e-05, 4.3559e-05,  ..., 2.4727e-05,\n",
       "          4.7900e-05, 6.7671e-05],\n",
       "         [3.5179e-05, 1.5788e-05, 2.5772e-05,  ..., 6.4575e-05,\n",
       "          4.6705e-05, 2.6564e-05],\n",
       "         ...,\n",
       "         [4.1625e-05, 3.2767e-05, 4.8812e-05,  ..., 1.7780e-05,\n",
       "          2.0948e-05, 5.6369e-05],\n",
       "         [3.2874e-05, 4.8406e-05, 5.9448e-05,  ..., 5.2163e-05,\n",
       "          4.6947e-05, 1.8098e-05],\n",
       "         [1.8578e-05, 3.1932e-05, 1.6493e-05,  ..., 3.2897e-05,\n",
       "          2.4006e-05, 2.4199e-05]],\n",
       "\n",
       "        ...,\n",
       "\n",
       "        [[4.5841e-05, 4.1513e-05, 2.0848e-05,  ..., 5.6189e-05,\n",
       "          1.4233e-05, 4.5363e-05],\n",
       "         [5.3752e-05, 4.7394e-05, 2.5613e-05,  ..., 4.3757e-05,\n",
       "          1.7837e-05, 3.6941e-05],\n",
       "         [6.6676e-05, 3.7223e-05, 6.4667e-05,  ..., 4.5975e-05,\n",
       "          3.1460e-05, 1.3335e-05],\n",
       "         ...,\n",
       "         [2.2227e-04, 2.1253e-05, 1.9557e-05,  ..., 4.1640e-05,\n",
       "          1.1685e-05, 7.5707e-05],\n",
       "         [5.6691e-05, 4.1892e-05, 2.1835e-05,  ..., 4.3680e-05,\n",
       "          1.7754e-05, 4.7676e-05],\n",
       "         [5.0045e-05, 4.6919e-05, 2.0748e-05,  ..., 4.2519e-05,\n",
       "          1.6608e-05, 4.5363e-05]],\n",
       "\n",
       "        [[6.7128e-05, 1.5026e-05, 3.7756e-05,  ..., 4.8621e-05,\n",
       "          1.2892e-05, 2.5793e-05],\n",
       "         [8.2564e-05, 1.7681e-05, 4.2655e-05,  ..., 5.2063e-05,\n",
       "          1.6634e-05, 1.8000e-05],\n",
       "         [7.1773e-05, 3.1397e-05, 2.3576e-05,  ..., 3.5029e-05,\n",
       "          2.7483e-05, 6.2591e-05],\n",
       "         ...,\n",
       "         [8.8755e-05, 2.2163e-05, 7.6869e-05,  ..., 4.4380e-05,\n",
       "          2.3906e-05, 7.4594e-06],\n",
       "         [9.9605e-05, 1.3071e-05, 4.6567e-05,  ..., 4.4449e-05,\n",
       "          1.4852e-05, 2.0394e-05],\n",
       "         [7.7472e-05, 1.5004e-05, 4.0609e-05,  ..., 4.2049e-05,\n",
       "          1.6047e-05, 1.7646e-05]],\n",
       "\n",
       "        [[4.0895e-05, 2.9758e-05, 2.8143e-05,  ..., 2.5686e-05,\n",
       "          1.6915e-05, 3.7702e-05],\n",
       "         [4.0971e-05, 3.3931e-05, 2.6654e-05,  ..., 1.8488e-05,\n",
       "          1.7796e-05, 3.7000e-05],\n",
       "         [5.4124e-05, 5.6703e-05, 1.0547e-05,  ..., 6.6513e-05,\n",
       "          6.8693e-05, 2.8938e-05],\n",
       "         ...,\n",
       "         [6.1611e-05, 4.8402e-05, 1.0541e-05,  ..., 6.3667e-05,\n",
       "          6.6328e-05, 2.8585e-05],\n",
       "         [4.8484e-05, 2.6807e-05, 2.6496e-05,  ..., 2.1880e-05,\n",
       "          1.7673e-05, 4.7694e-05],\n",
       "         [4.8636e-05, 3.1730e-05, 2.3872e-05,  ..., 2.5702e-05,\n",
       "          1.6978e-05, 3.5250e-05]]], grad_fn=<SoftmaxBackward>)"
      ]
     },
     "execution_count": 38,
     "metadata": {},
     "output_type": "execute_result"
    }
   ],
   "source": [
    "output"
   ]
  }
 ],
 "metadata": {
  "kernelspec": {
   "display_name": "Python 3",
   "language": "python",
   "name": "python3"
  },
  "language_info": {
   "codemirror_mode": {
    "name": "ipython",
    "version": 3
   },
   "file_extension": ".py",
   "mimetype": "text/x-python",
   "name": "python",
   "nbconvert_exporter": "python",
   "pygments_lexer": "ipython3",
   "version": "3.8.5"
  }
 },
 "nbformat": 4,
 "nbformat_minor": 4
}

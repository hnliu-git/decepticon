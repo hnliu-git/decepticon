{
 "cells": [
  {
   "cell_type": "code",
   "execution_count": 29,
   "metadata": {},
   "outputs": [
    {
     "name": "stdout",
     "output_type": "stream",
     "text": [
      "The autoreload extension is already loaded. To reload it, use:\n",
      "  %reload_ext autoreload\n"
     ]
    }
   ],
   "source": [
    "%load_ext autoreload\n",
    "%autoreload 2\n",
    "\n",
    "from project.data.data import *"
   ]
  },
  {
   "cell_type": "markdown",
   "metadata": {},
   "source": [
    "## Preprocess raw data:"
   ]
  },
  {
   "cell_type": "code",
   "execution_count": 4,
   "metadata": {},
   "outputs": [],
   "source": [
    "processor = RaceDataProcessor()\n",
    "processor.process_data(\"RACE\", \"LON\")"
   ]
  },
  {
   "cell_type": "markdown",
   "metadata": {},
   "source": [
    "## Prepare datasets:"
   ]
  },
  {
   "cell_type": "markdown",
   "metadata": {},
   "source": [
    "##### All of the following steps should be done from command line. They are here to a quick & dirty heuristic to work with jupyter."
   ]
  },
  {
   "cell_type": "code",
   "execution_count": 30,
   "metadata": {},
   "outputs": [],
   "source": [
    "from collections import namedtuple\n",
    "\n",
    "Hparams = namedtuple(\"Hparams\", [\"data_path\", \"batch_size\", \"num_workers\", \"special_tokens\", \"pretrained_model\"])\n",
    "hparams = Hparams(\n",
    "    data_path = \"LON\",\n",
    "    batch_size = 16,\n",
    "    num_workers = 6,\n",
    "    special_tokens = [\"[CON]\", \"[QUE]\", \"[ANS]\", \"[DIS]\"],\n",
    "    pretrained_model = \"bert-base-cased\"\n",
    ")"
   ]
  },
  {
   "cell_type": "code",
   "execution_count": 31,
   "metadata": {},
   "outputs": [],
   "source": [
    "def customed_collate_fn(batch, tokenizer):\n",
    "    \"\"\"\"\"\"\n",
    "    import torch\n",
    "    articles = []\n",
    "    questions = []\n",
    "    answers = []\n",
    "    distractors = []\n",
    "\n",
    "    for item in batch:\n",
    "        articles.append(\" \".join([\"<answer>\", item[\"answer\"], \"<context>\", item[\"article\"]]))\n",
    "        questions.append(item[\"question\"])\n",
    "    articles = tokenizer(articles, padding=True, \n",
    "                                       truncation=True, \n",
    "                                       return_tensors=\"pt\", \n",
    "                                       pad_to_max_length=True, \n",
    "                                       max_length=512)\n",
    "    questions = tokenizer(questions, padding=True, \n",
    "                                       truncation=True, \n",
    "                                       return_tensors=\"pt\", \n",
    "                                       pad_to_max_length=True, \n",
    "                                       max_length=512)\n",
    "    articles['input_ids'] = torch.squeeze(articles['input_ids'])\n",
    "    articles['attention_mask'] = torch.squeeze(articles['attention_mask'])\n",
    "    questions['input_ids'] = torch.squeeze(questions['input_ids'])\n",
    "    questions['attention_mask'] = torch.squeeze(questions['attention_mask'])\n",
    "    \n",
    "    return (articles, questions)"
   ]
  },
  {
   "cell_type": "code",
   "execution_count": 32,
   "metadata": {},
   "outputs": [],
   "source": [
    "# Create and setup \n",
    "data_module = RaceDataModule(hparams, customed_collate_fn)\n",
    "data_module.prepare_data()\n",
    "data_module.setup()"
   ]
  },
  {
   "cell_type": "code",
   "execution_count": 33,
   "metadata": {},
   "outputs": [],
   "source": [
    "# Get data loaders:\n",
    "trainloader = data_module.train_dataloader()\n",
    "valloader = data_module.val_dataloader()\n",
    "testloader = data_module.test_dataloader()"
   ]
  },
  {
   "cell_type": "code",
   "execution_count": 34,
   "metadata": {},
   "outputs": [],
   "source": [
    "batch = next(iter(trainloader))"
   ]
  },
  {
   "cell_type": "code",
   "execution_count": 36,
   "metadata": {},
   "outputs": [
    {
     "data": {
      "text/plain": [
       "list"
      ]
     },
     "execution_count": 36,
     "metadata": {},
     "output_type": "execute_result"
    }
   ],
   "source": [
    "type(batch)"
   ]
  }
 ],
 "metadata": {
  "kernelspec": {
   "display_name": "Python 3",
   "language": "python",
   "name": "python3"
  },
  "language_info": {
   "codemirror_mode": {
    "name": "ipython",
    "version": 3
   },
   "file_extension": ".py",
   "mimetype": "text/x-python",
   "name": "python",
   "nbconvert_exporter": "python",
   "pygments_lexer": "ipython3",
   "version": "3.8.5"
  }
 },
 "nbformat": 4,
 "nbformat_minor": 4
}

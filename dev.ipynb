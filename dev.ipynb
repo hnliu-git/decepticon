{
 "cells": [
  {
   "cell_type": "code",
   "execution_count": 3,
   "metadata": {},
   "outputs": [
    {
     "name": "stdout",
     "output_type": "stream",
     "text": [
      "The autoreload extension is already loaded. To reload it, use:\n",
      "  %reload_ext autoreload\n"
     ]
    }
   ],
   "source": [
    "%load_ext autoreload\n",
    "%autoreload 2\n",
    "import torch\n",
    "from argparse import ArgumentParser\n",
    "import pytorch_lightning as pl\n",
    "\n",
    "from datasets import load_metric\n",
    "\n",
    "from project.data.data import *\n",
    "from project.models.models import *\n",
    "from project.metrics.metrics import *"
   ]
  },
  {
   "cell_type": "code",
   "execution_count": 4,
   "metadata": {},
   "outputs": [],
   "source": [
    "predictions = [\n",
    "    \"hello there general kenobi\",                             # tokenized prediction of the first sample\n",
    "    \"foo bar foobar\"                                             # tokenized prediction of the second sample\n",
    "]\n",
    "references = [\n",
    "    \"hello there general kenobi\",  # tokenized references for the first sample (2 references)\n",
    "    \"foo bar foobar\"                                           # tokenized references for the second sample (1 reference)\n",
    "]"
   ]
  },
  {
   "cell_type": "code",
   "execution_count": 7,
   "metadata": {},
   "outputs": [
    {
     "name": "stderr",
     "output_type": "stream",
     "text": [
      "[nltk_data] Downloading package wordnet to /root/nltk_data...\n",
      "[nltk_data]   Package wordnet is already up-to-date!\n"
     ]
    }
   ],
   "source": [
    "input = Input(predictions, references)\n",
    "metric = Metrics().compute_metrics(input)"
   ]
  },
  {
   "cell_type": "markdown",
   "metadata": {},
   "source": [
    "## Preprocess raw data:"
   ]
  },
  {
   "cell_type": "code",
   "execution_count": 2,
   "metadata": {},
   "outputs": [],
   "source": [
    "#processor = RaceDataProcessor()\n",
    "#processor.process_data(\"RACE\", \"LON\")"
   ]
  },
  {
   "cell_type": "markdown",
   "metadata": {},
   "source": [
    "## Train model"
   ]
  },
  {
   "cell_type": "code",
   "execution_count": 10,
   "metadata": {},
   "outputs": [
    {
     "name": "stderr",
     "output_type": "stream",
     "text": [
      "Global seed set to 1234\n",
      "Global seed set to 1234\n",
      "[nltk_data] Downloading package wordnet to /root/nltk_data...\n",
      "[nltk_data]   Package wordnet is already up-to-date!\n",
      "GPU available: True, used: True\n",
      "GPU available: True, used: True\n",
      "TPU available: None, using: 0 TPU cores\n",
      "TPU available: None, using: 0 TPU cores\n"
     ]
    }
   ],
   "source": [
    "# Parse arguments:\n",
    "parser = ArgumentParser()\n",
    "parser = RaceDataModule.add_model_specific_args(parser)\n",
    "parser = RaceModule.add_model_specific_args(parser)\n",
    "parser = pl.Trainer.add_argparse_args(parser)\n",
    "args = parser.parse_args(\n",
    "    \"--data_path LON --batch_size 16 --num_workers 6 --d_model 768 --nhead 8 \"\n",
    "    \"--num_layers 1 --learning_rate 1e-5 --special_tokens [CON] [QUE] [ANS] [DIS] \"\n",
    "    \"--dm_pretrained_model distilbert-base-cased --m_pretrained_model distilbert-base-cased \"\n",
    "    \"--gpus 1 --max_epochs 5 --check_val_every_n_epoch 1\".split()\n",
    ")\n",
    "\n",
    "pl.seed_everything(1234)\n",
    "\n",
    "\n",
    "# Module and data module:\n",
    "def customed_collate_fn(batch, tokenizer):\n",
    "    con_token, que_token, ans_token, dis_token = tokenizer.additional_special_tokens\n",
    "\n",
    "    inputs = []\n",
    "    targets = []\n",
    "\n",
    "    for item in batch:\n",
    "        inputs.append(\" \".join([con_token, item[\"article\"], ans_token, item[\"answer\"]]))\n",
    "        targets.append(\" \".join([que_token, item[\"question\"], dis_token, dis_token.join(item[\"distractors\"])]))\n",
    "\n",
    "    return {\n",
    "        \"inputs\": tokenizer(inputs, padding=True, truncation=True, return_tensors=\"pt\"),\n",
    "        \"targets\": tokenizer(targets, padding=True, truncation=True, return_tensors=\"pt\"),\n",
    "    }\n",
    "\n",
    "\n",
    "data_module = RaceDataModule(args, customed_collate_fn)\n",
    "module = RaceModule(args)\n",
    "\n",
    "\n",
    "# Callbacks:\n",
    "checkpoint = ModelCheckpoint(\n",
    "    dirpath=\"./checkpoint/fx-{epoch:02d}-{val_loss:.7f}\",\n",
    "    monitor=\"val_loss\"\n",
    ")\n",
    "\n",
    "\n",
    "# Trainer:\n",
    "trainer = pl.Trainer.from_argparse_args(\n",
    "    args,\n",
    "    checkpoint_callback=checkpoint\n",
    ")\n",
    "\n",
    "\n",
    "#trainer.fit(module, data_module)"
   ]
  },
  {
   "cell_type": "code",
   "execution_count": 12,
   "metadata": {},
   "outputs": [],
   "source": [
    "data_module.prepare_data()\n",
    "data_module.setup()"
   ]
  },
  {
   "cell_type": "code",
   "execution_count": 92,
   "metadata": {},
   "outputs": [
    {
     "data": {
      "text/plain": [
       "'con cac'"
      ]
     },
     "execution_count": 92,
     "metadata": {},
     "output_type": "execute_result"
    }
   ],
   "source": [
    "tokenizer.decode(tokenizer([\"con cac\", \"cai lon\", \"dit me may\"])[\"input_ids\"][0], skip_special_tokens=True)"
   ]
  },
  {
   "cell_type": "code",
   "execution_count": 14,
   "metadata": {},
   "outputs": [],
   "source": [
    "tokenizer = data_module.tokenizer\n",
    "batch = next(iter(data_module.test_dataloader()))\n",
    "inputs, targets = batch[\"inputs\"], batch[\"targets\"]"
   ]
  },
  {
   "cell_type": "code",
   "execution_count": 21,
   "metadata": {},
   "outputs": [],
   "source": [
    "generated = module(\n",
    "    target=targets[\"input_ids\"][:, :-1],\n",
    "    memory=module.encode(inputs),\n",
    "    input_key_padding_mask=targets[\"attention_mask\"][:, :-1] == 0,\n",
    "    memory_key_padding_mask=inputs[\"attention_mask\"] == 0\n",
    ")"
   ]
  },
  {
   "cell_type": "code",
   "execution_count": 28,
   "metadata": {},
   "outputs": [
    {
     "data": {
      "text/plain": [
       "torch.Size([16, 55])"
      ]
     },
     "execution_count": 28,
     "metadata": {},
     "output_type": "execute_result"
    }
   ],
   "source": [
    "targets[\"input_ids\"].shape"
   ]
  },
  {
   "cell_type": "code",
   "execution_count": 26,
   "metadata": {},
   "outputs": [
    {
     "data": {
      "text/plain": [
       "torch.Size([16, 54])"
      ]
     },
     "execution_count": 26,
     "metadata": {},
     "output_type": "execute_result"
    }
   ],
   "source": [
    "generated.argmax(axis=1).shape"
   ]
  }
 ],
 "metadata": {
  "kernelspec": {
   "display_name": "Python 3",
   "language": "python",
   "name": "python3"
  },
  "language_info": {
   "codemirror_mode": {
    "name": "ipython",
    "version": 3
   },
   "file_extension": ".py",
   "mimetype": "text/x-python",
   "name": "python",
   "nbconvert_exporter": "python",
   "pygments_lexer": "ipython3",
   "version": "3.8.5"
  }
 },
 "nbformat": 4,
 "nbformat_minor": 4
}

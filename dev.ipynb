{
 "cells": [
  {
   "cell_type": "code",
   "execution_count": 5,
   "metadata": {},
   "outputs": [
    {
     "name": "stdout",
     "output_type": "stream",
     "text": [
      "The autoreload extension is already loaded. To reload it, use:\n",
      "  %reload_ext autoreload\n"
     ]
    }
   ],
   "source": [
    "%load_ext autoreload\n",
    "%autoreload 2\n",
    "import torch\n",
    "from argparse import ArgumentParser\n",
    "import pytorch_lightning as pl\n",
    "from project.data.data import *\n",
    "from project.models.models import *"
   ]
  },
  {
   "cell_type": "markdown",
   "metadata": {},
   "source": [
    "## Preprocess raw data:"
   ]
  },
  {
   "cell_type": "code",
   "execution_count": 2,
   "metadata": {},
   "outputs": [],
   "source": [
    "#processor = RaceDataProcessor()\n",
    "#processor.process_data(\"RACE\", \"LON\")"
   ]
  },
  {
   "cell_type": "markdown",
   "metadata": {},
   "source": [
    "## Train model"
   ]
  },
  {
   "cell_type": "code",
   "execution_count": 13,
   "metadata": {},
   "outputs": [
    {
     "data": {
      "text/plain": [
       "['[CON]', '[QUE]', '[ANS]', '[DIS]']"
      ]
     },
     "execution_count": 13,
     "metadata": {},
     "output_type": "execute_result"
    }
   ],
   "source": [
    "data_module.tokenizer.additional_special_tokens"
   ]
  },
  {
   "cell_type": "code",
   "execution_count": 11,
   "metadata": {},
   "outputs": [
    {
     "name": "stderr",
     "output_type": "stream",
     "text": [
      "GPU available: True, used: True\n",
      "TPU available: None, using: 0 TPU cores\n",
      "\n",
      "  | Name          | Type                    | Params\n",
      "----------------------------------------------------------\n",
      "0 | encoder       | DistilBertModel         | 65.2 M\n",
      "1 | embedding     | Embeddings              | 22.7 M\n",
      "2 | decoder_layer | TransformerDecoderLayer | 7.9 M \n",
      "3 | decoder       | TransformerDecoder      | 7.9 M \n",
      "4 | head          | Linear                  | 22.3 M\n",
      "----------------------------------------------------------\n",
      "38.1 M    Trainable params\n",
      "65.2 M    Non-trainable params\n",
      "103 M     Total params\n",
      "413.009   Total estimated model params size (MB)\n"
     ]
    },
    {
     "data": {
      "application/vnd.jupyter.widget-view+json": {
       "model_id": "b3ef80adf342403bb0eb9c21fe2914bf",
       "version_major": 2,
       "version_minor": 0
      },
      "text/plain": [
       "HBox(children=(HTML(value='Validation sanity check'), FloatProgress(value=1.0, bar_style='info', layout=Layout…"
      ]
     },
     "metadata": {},
     "output_type": "display_data"
    },
    {
     "data": {
      "application/vnd.jupyter.widget-view+json": {
       "model_id": "4e0c01002c544e759cedccd909c9a2ff",
       "version_major": 2,
       "version_minor": 0
      },
      "text/plain": [
       "HBox(children=(HTML(value='Training'), FloatProgress(value=1.0, bar_style='info', layout=Layout(flex='2'), max…"
      ]
     },
     "metadata": {},
     "output_type": "display_data"
    },
    {
     "name": "stderr",
     "output_type": "stream",
     "text": [
      "/opt/conda/lib/python3.8/site-packages/pytorch_lightning/utilities/distributed.py:50: UserWarning: Detected KeyboardInterrupt, attempting graceful shutdown...\n",
      "  warnings.warn(*args, **kwargs)\n"
     ]
    },
    {
     "name": "stdout",
     "output_type": "stream",
     "text": [
      "\n"
     ]
    },
    {
     "data": {
      "text/plain": [
       "1"
      ]
     },
     "execution_count": 11,
     "metadata": {},
     "output_type": "execute_result"
    }
   ],
   "source": [
    "# Parse arguments:\n",
    "parser = ArgumentParser()\n",
    "parser = RaceDataModule.add_model_specific_args(parser)\n",
    "parser = RaceModule.add_model_specific_args(parser)\n",
    "parser = pl.Trainer.add_argparse_args(parser)\n",
    "args = parser.parse_args(\n",
    "    \"--data_path LON \\\n",
    "    --batch_size 8 \\\n",
    "    --num_workers 6 \\\n",
    "    --d_model 768 \\\n",
    "    --nhead 8 \\\n",
    "    --num_layers 1 \\\n",
    "    --learning_rate 1e-5 \\\n",
    "    --special_tokens [CON] [QUE] [ANS] [DIS] \\\n",
    "    --dm_pretrained_model distilbert-base-cased \\\n",
    "    --m_pretrained_model distilbert-base-cased \\\n",
    "    --gpus 1 \\\n",
    "    --max_epochs 5 \\\n",
    "    --check_val_every_n_epoch 1\".split()\n",
    ")\n",
    "\n",
    "# Module and data module:\n",
    "data_module = RaceDataModule(args)\n",
    "module = RaceModule(args)\n",
    "\n",
    "# Callbacks:\n",
    "checkpoint = ModelCheckpoint(\n",
    "    dirpath=\"./checkpoint/fx-{epoch:02d}-{val_loss:.7f}\",\n",
    "    monitor=\"val_loss\"\n",
    ")\n",
    "\n",
    "# Trainer:\n",
    "trainer = pl.Trainer.from_argparse_args(\n",
    "    args,\n",
    "    checkpoint_callback=checkpoint\n",
    ")\n",
    "\n",
    "trainer.fit(module, data_module)"
   ]
  },
  {
   "cell_type": "code",
   "execution_count": null,
   "metadata": {},
   "outputs": [],
   "source": []
  }
 ],
 "metadata": {
  "kernelspec": {
   "display_name": "Python 3",
   "language": "python",
   "name": "python3"
  },
  "language_info": {
   "codemirror_mode": {
    "name": "ipython",
    "version": 3
   },
   "file_extension": ".py",
   "mimetype": "text/x-python",
   "name": "python",
   "nbconvert_exporter": "python",
   "pygments_lexer": "ipython3",
   "version": "3.8.5"
  }
 },
 "nbformat": 4,
 "nbformat_minor": 4
}

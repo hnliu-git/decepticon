{
 "cells": [
  {
   "cell_type": "code",
   "execution_count": 38,
   "metadata": {},
   "outputs": [
    {
     "name": "stdout",
     "output_type": "stream",
     "text": [
      "The autoreload extension is already loaded. To reload it, use:\n",
      "  %reload_ext autoreload\n"
     ]
    }
   ],
   "source": [
    "%load_ext autoreload\n",
    "%autoreload 2\n",
    "import torch\n",
    "from argparse import ArgumentParser\n",
    "import pytorch_lightning as pl\n",
    "from pytorch_lightning.callbacks.model_checkpoint import ModelCheckpoint\n",
    "\n",
    "from datasets import load_metric\n",
    "\n",
    "from project.data.data import *\n",
    "from project.models.rnn import *\n",
    "from project.metrics.metrics import *"
   ]
  },
  {
   "cell_type": "markdown",
   "metadata": {},
   "source": [
    "## Preprocess raw data:"
   ]
  },
  {
   "cell_type": "code",
   "execution_count": 39,
   "metadata": {},
   "outputs": [],
   "source": [
    "#processor = RaceDataProcessor()\n",
    "#processor.process_data(\"RACE\", \"LON\")"
   ]
  },
  {
   "cell_type": "markdown",
   "metadata": {},
   "source": [
    "## Train model"
   ]
  },
  {
   "cell_type": "code",
   "execution_count": 40,
   "metadata": {},
   "outputs": [
    {
     "name": "stderr",
     "output_type": "stream",
     "text": [
      "Global seed set to 1234\n",
      "[nltk_data] Downloading package wordnet to /root/nltk_data...\n",
      "[nltk_data]   Package wordnet is already up-to-date!\n",
      "GPU available: True, used: True\n",
      "TPU available: None, using: 0 TPU cores\n"
     ]
    }
   ],
   "source": [
    "# Parse arguments:\n",
    "parser = ArgumentParser()\n",
    "parser = RaceDataModule.add_model_specific_args(parser)\n",
    "parser = RaceModule.add_model_specific_args(parser)\n",
    "parser = pl.Trainer.add_argparse_args(parser)\n",
    "args = parser.parse_args(\"--data_path LON \\\n",
    "                          --batch_size 32 \\\n",
    "                          --num_workers 4 \\\n",
    "                          --top_p 0.3 \\\n",
    "                          --hidden_size 128 \\\n",
    "                          --learning_rate 1e-5 \\\n",
    "                          --special_tokens [CON] [QUE] [ANS] [DIS] \\\n",
    "                          --gpus 1 \\\n",
    "                          --max_epochs 1 \\\n",
    "                          --check_val_every_n_epoch 1\".split())\n",
    "\n",
    "pl.seed_everything(1234)\n",
    "\n",
    "\n",
    "\"\"\"# Module and data module:\n",
    "def customed_collate_fn(batch, tokenizer):\n",
    "    con_token, que_token, ans_token, dis_token = tokenizer.additional_special_tokens\n",
    "\n",
    "    inputs = []\n",
    "    targets = []\n",
    "\n",
    "    for item in batch:\n",
    "        inputs.append(\" \".join([con_token, item[\"article\"], ans_token, item[\"answer\"]]))\n",
    "        targets.append(\" \".join([que_token, item[\"question\"], dis_token, dis_token.join(item[\"distractors\"])]))\n",
    "\n",
    "    return {\n",
    "        \"inputs\": tokenizer(inputs, padding=True, truncation=True, return_tensors=\"pt\"),\n",
    "        \"targets\": tokenizer(targets, padding=True, truncation=True, return_tensors=\"pt\"),\n",
    "    }\"\"\"\n",
    "\n",
    "\n",
    "data_module = RaceDataModule(args) #, customed_collate_fn)\n",
    "module = RaceModule(args)\n",
    "\n",
    "\n",
    "# Callbacks:\n",
    "checkpoint = ModelCheckpoint(\n",
    "    dirpath=\"./checkpoint/fx-{epoch:02d}-{val_loss:.7f}\",\n",
    "    monitor=\"val_loss\"\n",
    ")\n",
    "\n",
    "\n",
    "# Trainer:\n",
    "trainer = pl.Trainer.from_argparse_args(\n",
    "    args,\n",
    "    checkpoint_callback=checkpoint\n",
    ")\n",
    "\n",
    "\n",
    "#trainer.fit(module, data_module)"
   ]
  },
  {
   "cell_type": "code",
   "execution_count": 41,
   "metadata": {},
   "outputs": [
    {
     "name": "stdout",
     "output_type": "stream",
     "text": [
      "\n"
     ]
    }
   ],
   "source": [
    "data_module.prepare_data()\n",
    "data_module.setup()"
   ]
  },
  {
   "cell_type": "code",
   "execution_count": 42,
   "metadata": {},
   "outputs": [
    {
     "data": {
      "application/vnd.jupyter.widget-view+json": {
       "model_id": "e91acdb6cd1b4c008882b525f5bcc2ca",
       "version_major": 2,
       "version_minor": 0
      },
      "text/plain": [
       "HBox(children=(HTML(value='Testing'), FloatProgress(value=1.0, bar_style='info', layout=Layout(flex='2'), max=…"
      ]
     },
     "metadata": {},
     "output_type": "display_data"
    },
    {
     "name": "stdout",
     "output_type": "stream",
     "text": [
      "\n",
      "--------------------------------------------------------------------------------\n",
      "DATALOADER:0 TEST RESULTS\n",
      "{'bleu_1': 0.0,\n",
      " 'bleu_2': 0.0,\n",
      " 'bleu_3': 0.0,\n",
      " 'bleu_4': 0.0,\n",
      " 'meteor': 0.014367816091954025,\n",
      " 'rouge_l': 0.0}\n",
      "--------------------------------------------------------------------------------\n"
     ]
    },
    {
     "data": {
      "text/plain": [
       "[{'bleu_1': 0.0,\n",
       "  'bleu_2': 0.0,\n",
       "  'bleu_3': 0.0,\n",
       "  'bleu_4': 0.0,\n",
       "  'meteor': 0.014367816091954025,\n",
       "  'rouge_l': 0.0}]"
      ]
     },
     "execution_count": 42,
     "metadata": {},
     "output_type": "execute_result"
    }
   ],
   "source": [
    "trainer.test(module, test_dataloaders=data_module.test_dataloader())"
   ]
  },
  {
   "cell_type": "code",
   "execution_count": 44,
   "metadata": {},
   "outputs": [
    {
     "data": {
      "text/plain": [
       "PreTrainedTokenizerFast(name_or_path='prajjwal1/bert-tiny', vocab_size=30522, model_max_len=1000000000000000019884624838656, is_fast=True, padding_side='right', special_tokens={'unk_token': '[UNK]', 'sep_token': '[SEP]', 'pad_token': '[PAD]', 'cls_token': '[CLS]', 'mask_token': '[MASK]', 'additional_special_tokens': ['[CON]', '[QUE]', '[ANS]', '[DIS]']})"
      ]
     },
     "execution_count": 44,
     "metadata": {},
     "output_type": "execute_result"
    }
   ],
   "source": [
    "data_module.tokenizer"
   ]
  }
 ],
 "metadata": {
  "kernelspec": {
   "display_name": "Python 3",
   "language": "python",
   "name": "python3"
  },
  "language_info": {
   "codemirror_mode": {
    "name": "ipython",
    "version": 3
   },
   "file_extension": ".py",
   "mimetype": "text/x-python",
   "name": "python",
   "nbconvert_exporter": "python",
   "pygments_lexer": "ipython3",
   "version": "3.8.5"
  }
 },
 "nbformat": 4,
 "nbformat_minor": 4
}
